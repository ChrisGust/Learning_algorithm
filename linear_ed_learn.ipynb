{
 "cells": [
  {
   "cell_type": "code",
   "execution_count": 18,
   "metadata": {},
   "outputs": [],
   "source": [
    "from MarkovSwitchingModel import MarkovSwitchingDSGE"
   ]
  },
  {
   "cell_type": "code",
   "execution_count": 19,
   "metadata": {},
   "outputs": [],
   "source": [
    "nklearn = MarkovSwitchingDSGE.read('3eq_ms.yaml')"
   ]
  },
  {
   "cell_type": "code",
   "execution_count": 20,
   "metadata": {},
   "outputs": [],
   "source": [
    "nk = nklearn.compile_model()\n",
    "p0 = nklearn.p0()"
   ]
  },
  {
   "cell_type": "code",
   "execution_count": 21,
   "metadata": {},
   "outputs": [],
   "source": [
    "from dsge.gensys import gensys\n",
    "import numpy as np\n",
    "yy = np.array(nk.yy)\n",
    "nobs = yy.shape[0]\n",
    "GAM0 = nk.GAM0(p0)\n",
    "GAM1 = nk.GAM1(p0)\n",
    "PSI = nk.PSI(p0)\n",
    "PPI = nk.PPI(p0)\n",
    "TT, RR, M, TZ, TY, RC = gensys(GAM0, GAM1, PSI, PPI, return_everything=True)\n",
    "TT, RR, QQ, DD, ZZ, HH = nk.system_matrices(p0)\n",
    "\n",
    "initial_distribution = np.array(nk.initial_distribution(p0),dtype=float).squeeze()\n",
    "filtered_prob = initial_distribution\n",
    "strans = nk.transition(p0)\n",
    "sigrq = np.asarray(np.sqrt(nk.conditional_variance(p0))).squeeze()\n",
    "epsr_m = nk.conditional_mean(p0).squeeze()\n",
    "ns = TT.shape[0]\n",
    "neps = RR.shape[1]\n",
    "ny = ZZ.shape[1]\n",
    "nj = initial_distribution.size\n",
    "EXPeffect_f = np.zeros((ns, nj))\n",
    "EXPeffect_m = np.zeros((ns, nj))\n",
    "\n",
    "noshock = ~(np.arange(neps)==nk.shock_ind)\n",
    "Mj = np.eye(M.shape[0])\n",
    "strans = np.atleast_2d(strans)\n",
    "stransj = strans\n",
    "shocksel = np.zeros(neps)\n",
    "shocksel[~noshock] = 1\n",
    "\n",
    "filtered_mean_mat = np.zeros((nobs, ns))\n",
    "filtered_prob_mat = np.zeros((nobs, nj))\n",
    "epsr_m = np.atleast_1d(np.array(epsr_m))\n",
    "\n",
    "for j in range(100):\n",
    "    EXPeffect_f = EXPeffect_f +  (TY @ Mj @ TZ @ shocksel)[:, np.newaxis] @ ( epsr_m.T @ stransj )[np.newaxis, :]\n",
    "    #EXPeffect_m = EXPeffect_m +  TY @ Mj @ TZ @ shocksel @ ( epsr_m.T )\n",
    "\n",
    "    Mj = Mj @ M\n",
    "    stransj = stransj @ strans\n",
    "EXPeffect_f = np.real(EXPeffect_f)"
   ]
  },
  {
   "cell_type": "code",
   "execution_count": 23,
   "metadata": {},
   "outputs": [
    {
     "data": {
      "text/plain": [
       "array([[ 0.067,  0.111, -0.   , -0.111, -0.067],\n",
       "       [ 0.025,  0.043, -0.   , -0.043, -0.025],\n",
       "       [ 0.042,  0.071, -0.   , -0.071, -0.042],\n",
       "       [-0.   , -0.   ,  0.   ,  0.   ,  0.   ],\n",
       "       [ 0.   ,  0.   , -0.   , -0.   , -0.   ],\n",
       "       [-0.   , -0.   ,  0.   ,  0.   ,  0.   ],\n",
       "       [ 0.111,  0.183, -0.   , -0.183, -0.111],\n",
       "       [ 0.   ,  0.   ,  0.   ,  0.   ,  0.   ],\n",
       "       [ 0.037,  0.064, -0.   , -0.064, -0.037]])"
      ]
     },
     "execution_count": 23,
     "metadata": {},
     "output_type": "execute_result"
    }
   ],
   "source": [
    "EXPeffect_f.round(3)"
   ]
  },
  {
   "cell_type": "code",
   "execution_count": 24,
   "metadata": {},
   "outputs": [
    {
     "data": {
      "text/plain": [
       "['y', 'R', 'dp', 'e', 'z', 'ylag', 'y(1)', 'z(1)', 'dp(1)']"
      ]
     },
     "execution_count": 24,
     "metadata": {},
     "output_type": "execute_result"
    }
   ],
   "source": [
    "nk.state_names"
   ]
  },
  {
   "cell_type": "code",
   "execution_count": null,
   "metadata": {},
   "outputs": [],
   "source": []
  }
 ],
 "metadata": {
  "kernelspec": {
   "display_name": "Python 3",
   "language": "python",
   "name": "python3"
  },
  "language_info": {
   "codemirror_mode": {
    "name": "ipython",
    "version": 3
   },
   "file_extension": ".py",
   "mimetype": "text/x-python",
   "name": "python",
   "nbconvert_exporter": "python",
   "pygments_lexer": "ipython3",
   "version": "3.6.4"
  }
 },
 "nbformat": 4,
 "nbformat_minor": 2
}
